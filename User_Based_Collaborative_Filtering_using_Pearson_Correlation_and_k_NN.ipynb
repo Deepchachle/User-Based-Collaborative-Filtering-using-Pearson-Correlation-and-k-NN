{
  "nbformat": 4,
  "nbformat_minor": 0,
  "metadata": {
    "colab": {
      "provenance": []
    },
    "kernelspec": {
      "name": "python3",
      "display_name": "Python 3"
    },
    "language_info": {
      "name": "python"
    }
  },
  "cells": [
    {
      "cell_type": "code",
      "source": [
        "import sqlite3\n",
        "import pandas as pd\n",
        "import numpy as np\n",
        "\n",
        "# 1. Connect to an in-memory database\n",
        "# (Use 'indian_ratings.db' for a file-based database that persists)\n",
        "conn = sqlite3.connect('indian_ratings.db')\n",
        "cursor = conn.cursor()\n",
        "\n",
        "# 2. Drop the table if it already exists to start fresh\n",
        "cursor.execute('DROP TABLE IF EXISTS indian_ratings')\n",
        "\n",
        "# 3. Create a new table with the PRIMARY KEY constraint\n",
        "cursor.execute('''\n",
        "CREATE TABLE indian_ratings (\n",
        "    user_id TEXT,\n",
        "    movie_id TEXT,\n",
        "    rating INTEGER,\n",
        "    PRIMARY KEY (user_id, movie_id)\n",
        ");\n",
        "''')\n",
        "conn.commit()\n",
        "\n",
        "# 4. Generate sample data\n",
        "users = ['Rahul', 'Priya', 'Amit', 'Pooja', 'Sanjay', 'Deepika', 'Akash', 'Shruti', 'Vikram', 'Anjali']\n",
        "movies = ['Sholay', '3 Idiots', 'Dangal', 'Baahubali 2', 'Lagaan', 'Gully Boy', 'Bajirao Mastani', 'RRR', 'K.G.F: Chapter 2']\n",
        "np.random.seed(42)\n",
        "\n",
        "data_to_insert = []\n",
        "# Ensure a sufficient number of unique ratings\n",
        "while len(data_to_insert) < 50:\n",
        "    user = np.random.choice(users)\n",
        "    movie = np.random.choice(movies)\n",
        "    rating = np.random.randint(1, 6) # Ratings from 1 to 5\n",
        "\n",
        "    # Check for uniqueness before adding to the list\n",
        "    if (user, movie) not in [(d[0], d[1]) for d in data_to_insert]:\n",
        "        data_to_insert.append((user, movie, rating))\n",
        "\n",
        "# 5. Insert the generated data into the table\n",
        "cursor.executemany('INSERT INTO indian_ratings VALUES (?, ?, ?)', data_to_insert)\n",
        "conn.commit()\n",
        "\n",
        "print(f\"Database created and populated with {len(data_to_insert)} ratings.\")\n",
        "\n",
        "# Close the connection for now\n",
        "conn.close()"
      ],
      "metadata": {
        "colab": {
          "base_uri": "https://localhost:8080/"
        },
        "id": "K3ONgkHI4ANx",
        "outputId": "64c335dc-7bd1-4c86-c636-16ac66bcce07"
      },
      "execution_count": 15,
      "outputs": [
        {
          "output_type": "stream",
          "name": "stdout",
          "text": [
            "Database created and populated with 50 ratings.\n"
          ]
        }
      ]
    },
    {
      "cell_type": "code",
      "source": [
        "import sqlite3\n",
        "import pandas as pd\n",
        "\n",
        "# Re-open the connection to the database file created in Part 1\n",
        "conn = sqlite3.connect('indian_ratings.db')\n",
        "\n",
        "# 1. Query all ratings into a pandas DataFrame\n",
        "query = \"SELECT user_id, movie_id, rating FROM indian_ratings\"\n",
        "long_format_ratings = pd.read_sql_query(query, conn)\n",
        "\n",
        "print(\"Ratings loaded from database:\")\n",
        "print(long_format_ratings.head())\n",
        "print(f\"Total entries: {len(long_format_ratings)}\")\n",
        "\n",
        "# 2. Save the DataFrame to a CSV file\n",
        "csv_file_path = 'indian_ratings.csv'\n",
        "long_format_ratings.to_csv(csv_file_path, index=False)\n",
        "\n",
        "print(f\"\\nData successfully saved to '{csv_file_path}'\")\n",
        "\n",
        "# Close the database connection\n",
        "conn.close()"
      ],
      "metadata": {
        "colab": {
          "base_uri": "https://localhost:8080/"
        },
        "id": "XbwfixeC4C4K",
        "outputId": "3b5902c8-738d-45dc-d322-fbe181d544da"
      },
      "execution_count": 16,
      "outputs": [
        {
          "output_type": "stream",
          "name": "stdout",
          "text": [
            "Ratings loaded from database:\n",
            "   user_id         movie_id  rating\n",
            "0    Akash      Baahubali 2       5\n",
            "1   Shruti           Lagaan       2\n",
            "2     Amit  Bajirao Mastani       3\n",
            "3   Shruti              RRR       3\n",
            "4  Deepika           Lagaan       2\n",
            "Total entries: 50\n",
            "\n",
            "Data successfully saved to 'indian_ratings.csv'\n"
          ]
        }
      ]
    },
    {
      "cell_type": "code",
      "source": [
        "import pandas as pd\n",
        "import numpy as np\n",
        "\n",
        "# Load the data from the CSV file created in Part 2\n",
        "csv_file_path = 'indian_ratings.csv'\n",
        "long_format_ratings = pd.read_csv(csv_file_path)\n",
        "\n",
        "# Reshape the data from long format to wide format (User-Item Matrix)\n",
        "ratings = long_format_ratings.pivot(index='user_id', columns='movie_id', values='rating').fillna(0)\n",
        "\n",
        "print(\"User-Item Matrix (wide format):\")\n",
        "print(ratings.head())\n",
        "\n",
        "# Compute User Similarities using Pearson Correlation\n",
        "similarity_matrix = ratings.T.corr(method='pearson')\n",
        "print(\"\\nUser-User Pearson Correlation Similarity Matrix:\")\n",
        "print(similarity_matrix.head())\n",
        "\n",
        "# k-NN: Find Similar Users\n",
        "def get_k_nearest_neighbors(sim_matrix, user, k=2):\n",
        "    sim_scores = sim_matrix[user].drop(user)\n",
        "    return sim_scores.sort_values(ascending=False).head(k)\n",
        "\n",
        "# Generate Recommendations\n",
        "def recommend_items(ratings, similarity_matrix, user, k=2):\n",
        "    neighbors = get_k_nearest_neighbors(similarity_matrix, user, k)\n",
        "    weighted_scores = pd.Series(dtype=float)\n",
        "\n",
        "    for neighbor, sim_score in neighbors.items():\n",
        "        neighbor_ratings = ratings.loc[neighbor]\n",
        "        weighted_scores = weighted_scores.add(neighbor_ratings * sim_score, fill_value=0)\n",
        "\n",
        "    user_rated = ratings.loc[user]\n",
        "    recommendations = weighted_scores[user_rated == 0].sort_values(ascending=False)\n",
        "    return recommendations\n",
        "\n",
        "# Example: Get recommendations for a random user from the database\n",
        "random_user = np.random.choice(ratings.index)\n",
        "print(f\"\\nRecommendations for {random_user}:\")\n",
        "recommendations = recommend_items(ratings, similarity_matrix, random_user, k=2)\n",
        "print(recommendations)"
      ],
      "metadata": {
        "colab": {
          "base_uri": "https://localhost:8080/"
        },
        "id": "KmIQD-p74Leh",
        "outputId": "031545bb-55b0-47a5-8953-94ca5146399c"
      },
      "execution_count": 17,
      "outputs": [
        {
          "output_type": "stream",
          "name": "stdout",
          "text": [
            "User-Item Matrix (wide format):\n",
            "movie_id  3 Idiots  Baahubali 2  Bajirao Mastani  Dangal  Gully Boy  \\\n",
            "user_id                                                               \n",
            "Akash          4.0          5.0              5.0     0.0        0.0   \n",
            "Amit           0.0          0.0              3.0     0.0        4.0   \n",
            "Anjali         0.0          4.0              4.0     4.0        5.0   \n",
            "Deepika        0.0          3.0              5.0     0.0        0.0   \n",
            "Pooja          4.0          5.0              4.0     0.0        5.0   \n",
            "\n",
            "movie_id  K.G.F: Chapter 2  Lagaan  RRR  Sholay  \n",
            "user_id                                          \n",
            "Akash                  0.0     1.0  3.0     0.0  \n",
            "Amit                   0.0     3.0  3.0     3.0  \n",
            "Anjali                 0.0     0.0  0.0     0.0  \n",
            "Deepika                0.0     2.0  1.0     0.0  \n",
            "Pooja                  0.0     0.0  4.0     1.0  \n",
            "\n",
            "User-User Pearson Correlation Similarity Matrix:\n",
            "user_id     Akash      Amit    Anjali   Deepika     Pooja     Priya     Rahul  \\\n",
            "user_id                                                                         \n",
            "Akash    1.000000 -0.162890  0.148361  0.719375  0.673133 -0.390935 -0.484123   \n",
            "Amit    -0.162890  1.000000  0.057283  0.181146  0.198537 -0.235849  0.448618   \n",
            "Anjali   0.148361  0.057283  1.000000  0.347163  0.432891 -0.347280  0.074485   \n",
            "Deepika  0.719375  0.181146  0.347163  1.000000  0.339631 -0.384935 -0.511463   \n",
            "Pooja    0.673133  0.198537  0.432891  0.339631  1.000000 -0.328488  0.171656   \n",
            "\n",
            "user_id    Sanjay    Shruti    Vikram  \n",
            "user_id                                \n",
            "Akash   -0.160357 -0.431825  0.202073  \n",
            "Amit     0.290227  0.608190 -0.363638  \n",
            "Anjali  -0.048462 -0.409848 -0.494902  \n",
            "Deepika  0.072446 -0.436566 -0.012039  \n",
            "Pooja   -0.235428 -0.126144 -0.038384  \n",
            "\n",
            "Recommendations for Deepika:\n",
            "movie_id\n",
            "3 Idiots            2.877499\n",
            "Gully Boy           1.735815\n",
            "Dangal              1.388652\n",
            "K.G.F: Chapter 2    0.000000\n",
            "Sholay              0.000000\n",
            "dtype: float64\n"
          ]
        }
      ]
    }
  ]
}